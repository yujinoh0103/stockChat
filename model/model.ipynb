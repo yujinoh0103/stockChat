{
  "nbformat": 4,
  "nbformat_minor": 0,
  "metadata": {
    "colab": {
      "provenance": [],
      "authorship_tag": "ABX9TyODhoNkg4IpQiKIBiuETmbI",
      "include_colab_link": true
    },
    "kernelspec": {
      "name": "python3",
      "display_name": "Python 3"
    },
    "language_info": {
      "name": "python"
    }
  },
  "cells": [
    {
      "cell_type": "markdown",
      "metadata": {
        "id": "view-in-github",
        "colab_type": "text"
      },
      "source": [
        "<a href=\"https://colab.research.google.com/github/yujinoh0103/stockChat/blob/model/model/model.ipynb\" target=\"_parent\"><img src=\"https://colab.research.google.com/assets/colab-badge.svg\" alt=\"Open In Colab\"/></a>"
      ]
    },
    {
      "cell_type": "markdown",
      "source": [
        "https://github.com/FinanceData/FinanceDataReader"
      ],
      "metadata": {
        "id": "WO7geZ8L9L7H"
      }
    },
    {
      "cell_type": "code",
      "source": [
        "!pip install finance-datareader\n",
        "!pip install mplfinance\n",
        "!pip install exchange_calendars"
      ],
      "metadata": {
        "colab": {
          "base_uri": "https://localhost:8080/"
        },
        "id": "QDHzju2NyaFB",
        "outputId": "3a395784-edd7-4b2c-f9aa-43d194f582f6"
      },
      "execution_count": 2,
      "outputs": [
        {
          "output_type": "stream",
          "name": "stdout",
          "text": [
            "Collecting finance-datareader\n",
            "  Downloading finance_datareader-0.9.94-py3-none-any.whl.metadata (466 bytes)\n",
            "Requirement already satisfied: pandas>=0.19.2 in /usr/local/lib/python3.10/dist-packages (from finance-datareader) (2.2.2)\n",
            "Requirement already satisfied: requests>=2.3.0 in /usr/local/lib/python3.10/dist-packages (from finance-datareader) (2.32.3)\n",
            "Collecting requests-file (from finance-datareader)\n",
            "  Downloading requests_file-2.1.0-py2.py3-none-any.whl.metadata (1.7 kB)\n",
            "Requirement already satisfied: lxml in /usr/local/lib/python3.10/dist-packages (from finance-datareader) (5.3.0)\n",
            "Requirement already satisfied: tqdm in /usr/local/lib/python3.10/dist-packages (from finance-datareader) (4.67.1)\n",
            "Requirement already satisfied: numpy>=1.22.4 in /usr/local/lib/python3.10/dist-packages (from pandas>=0.19.2->finance-datareader) (1.26.4)\n",
            "Requirement already satisfied: python-dateutil>=2.8.2 in /usr/local/lib/python3.10/dist-packages (from pandas>=0.19.2->finance-datareader) (2.8.2)\n",
            "Requirement already satisfied: pytz>=2020.1 in /usr/local/lib/python3.10/dist-packages (from pandas>=0.19.2->finance-datareader) (2024.2)\n",
            "Requirement already satisfied: tzdata>=2022.7 in /usr/local/lib/python3.10/dist-packages (from pandas>=0.19.2->finance-datareader) (2024.2)\n",
            "Requirement already satisfied: charset-normalizer<4,>=2 in /usr/local/lib/python3.10/dist-packages (from requests>=2.3.0->finance-datareader) (3.4.0)\n",
            "Requirement already satisfied: idna<4,>=2.5 in /usr/local/lib/python3.10/dist-packages (from requests>=2.3.0->finance-datareader) (3.10)\n",
            "Requirement already satisfied: urllib3<3,>=1.21.1 in /usr/local/lib/python3.10/dist-packages (from requests>=2.3.0->finance-datareader) (2.2.3)\n",
            "Requirement already satisfied: certifi>=2017.4.17 in /usr/local/lib/python3.10/dist-packages (from requests>=2.3.0->finance-datareader) (2024.12.14)\n",
            "Requirement already satisfied: six>=1.5 in /usr/local/lib/python3.10/dist-packages (from python-dateutil>=2.8.2->pandas>=0.19.2->finance-datareader) (1.17.0)\n",
            "Downloading finance_datareader-0.9.94-py3-none-any.whl (89 kB)\n",
            "\u001b[2K   \u001b[90m━━━━━━━━━━━━━━━━━━━━━━━━━━━━━━━━━━━━━━━━\u001b[0m \u001b[32m89.3/89.3 kB\u001b[0m \u001b[31m2.1 MB/s\u001b[0m eta \u001b[36m0:00:00\u001b[0m\n",
            "\u001b[?25hDownloading requests_file-2.1.0-py2.py3-none-any.whl (4.2 kB)\n",
            "Installing collected packages: requests-file, finance-datareader\n",
            "Successfully installed finance-datareader-0.9.94 requests-file-2.1.0\n"
          ]
        }
      ]
    },
    {
      "cell_type": "code",
      "execution_count": 12,
      "metadata": {
        "id": "yzQQvMTtxTh0"
      },
      "outputs": [],
      "source": [
        "# 라이브러리 불러오기\n",
        "import FinanceDataReader as fdr\n",
        "from datetime import datetime\n",
        "import numpy as np\n",
        "import pandas as pd\n",
        "import matplotlib.pyplot as plt\n",
        "import mplfinance as mpf\n",
        "import exchange_calendars as xcals\n",
        "from datetime import datetime"
      ]
    },
    {
      "cell_type": "code",
      "source": [
        "# 한국거래소 전체 상장 종목\n",
        "krx = fdr.StockListing('KRX')\n",
        "krx.info()"
      ],
      "metadata": {
        "colab": {
          "base_uri": "https://localhost:8080/"
        },
        "id": "1Ix1F2VDyVWO",
        "outputId": "0031b84d-e67e-4b91-98b3-fb5fd35d1b59"
      },
      "execution_count": 5,
      "outputs": [
        {
          "output_type": "stream",
          "name": "stdout",
          "text": [
            "<class 'pandas.core.frame.DataFrame'>\n",
            "RangeIndex: 2861 entries, 0 to 2860\n",
            "Data columns (total 17 columns):\n",
            " #   Column       Non-Null Count  Dtype  \n",
            "---  ------       --------------  -----  \n",
            " 0   Code         2861 non-null   object \n",
            " 1   ISU_CD       2861 non-null   object \n",
            " 2   Name         2861 non-null   object \n",
            " 3   Market       2861 non-null   object \n",
            " 4   Dept         2861 non-null   object \n",
            " 5   Close        2861 non-null   object \n",
            " 6   ChangeCode   2861 non-null   object \n",
            " 7   Changes      2861 non-null   int64  \n",
            " 8   ChagesRatio  2861 non-null   float64\n",
            " 9   Open         2861 non-null   int64  \n",
            " 10  High         2861 non-null   int64  \n",
            " 11  Low          2861 non-null   int64  \n",
            " 12  Volume       2861 non-null   int64  \n",
            " 13  Amount       2861 non-null   int64  \n",
            " 14  Marcap       2861 non-null   int64  \n",
            " 15  Stocks       2861 non-null   int64  \n",
            " 16  MarketId     2861 non-null   object \n",
            "dtypes: float64(1), int64(8), object(8)\n",
            "memory usage: 380.1+ KB\n"
          ]
        }
      ]
    },
    {
      "cell_type": "code",
      "source": [
        "spx = fdr.StockListing('S&P500')\n",
        "spx.info()"
      ],
      "metadata": {
        "colab": {
          "base_uri": "https://localhost:8080/"
        },
        "id": "xl9K0o-eyZw5",
        "outputId": "ecd145da-13aa-4b5d-c85e-d1b50aebec7d"
      },
      "execution_count": 7,
      "outputs": [
        {
          "output_type": "stream",
          "name": "stdout",
          "text": [
            "<class 'pandas.core.frame.DataFrame'>\n",
            "RangeIndex: 502 entries, 0 to 501\n",
            "Data columns (total 4 columns):\n",
            " #   Column    Non-Null Count  Dtype \n",
            "---  ------    --------------  ----- \n",
            " 0   Symbol    502 non-null    object\n",
            " 1   Name      502 non-null    object\n",
            " 2   Sector    502 non-null    object\n",
            " 3   Industry  502 non-null    object\n",
            "dtypes: object(4)\n",
            "memory usage: 15.8+ KB\n"
          ]
        }
      ]
    }
  ]
}